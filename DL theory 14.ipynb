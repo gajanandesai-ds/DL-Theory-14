{
 "cells": [
  {
   "cell_type": "raw",
   "id": "24ff1794",
   "metadata": {},
   "source": [
    "1. Is it okay to initialize all the weights to the same value as long as that value is selected\n",
    "randomly using He initialization?"
   ]
  },
  {
   "cell_type": "raw",
   "id": "7141657b",
   "metadata": {},
   "source": [
    "ans:\n",
    "yes, it is okay to initialize all the weights to the same value as long as that value is selected randomly using He initialization. He initialization is a specific type of random initialization technique that ensures that the weights are initialized with a good balance of small and large values, which helps to optimize the learning process."
   ]
  },
  {
   "cell_type": "code",
   "execution_count": null,
   "id": "711d4dfc",
   "metadata": {},
   "outputs": [],
   "source": []
  },
  {
   "cell_type": "code",
   "execution_count": null,
   "id": "18c9078c",
   "metadata": {},
   "outputs": [],
   "source": []
  },
  {
   "cell_type": "raw",
   "id": "9ba330e7",
   "metadata": {},
   "source": [
    "2. Is it okay to initialize the bias terms to 0?"
   ]
  },
  {
   "cell_type": "raw",
   "id": "e07750e6",
   "metadata": {},
   "source": [
    "ans:\n",
    "Yes, it is okay to initialize the bias terms to zero. Initializing the bias terms to zero is a popular approach as it allows the model to learn the bias more quickly during training."
   ]
  },
  {
   "cell_type": "code",
   "execution_count": null,
   "id": "4db46ccf",
   "metadata": {},
   "outputs": [],
   "source": []
  },
  {
   "cell_type": "code",
   "execution_count": null,
   "id": "ce69cbe9",
   "metadata": {},
   "outputs": [],
   "source": []
  },
  {
   "cell_type": "raw",
   "id": "f6994503",
   "metadata": {},
   "source": [
    "3. Name three advantages of the ELU activation function over ReLU."
   ]
  },
  {
   "cell_type": "raw",
   "id": "499a0a65",
   "metadata": {},
   "source": [
    "ans:\n",
    "\n",
    "1.The ELU activation function has a non-zero mean, which helps to reduce the vanishing gradients problem.\n",
    "\n",
    "2.The ELU activation function has a smoother transition from negative to positive values, which can help to improve the training process.\n",
    "\n",
    "3.The ELU activation function has a higher maximum output than ReLU, which can help to improve the model's performance,"
   ]
  },
  {
   "cell_type": "code",
   "execution_count": null,
   "id": "970680e8",
   "metadata": {},
   "outputs": [],
   "source": []
  },
  {
   "cell_type": "code",
   "execution_count": null,
   "id": "f2679884",
   "metadata": {},
   "outputs": [],
   "source": []
  },
  {
   "cell_type": "raw",
   "id": "5cd608a9",
   "metadata": {},
   "source": [
    "4. In which cases would you want to use each of the following activation functions: ELU, leaky\n",
    "ReLU (and its variants), ReLU, tanh, logistic, and softmax?"
   ]
  },
  {
   "cell_type": "raw",
   "id": "32a39e86",
   "metadata": {},
   "source": [
    "ans:\n",
    " ELU: ELU is best used in deep learning networks where the vanishing gradient problem is a concern.\n",
    "\n",
    "Leaky ReLU (and its variants): Leaky ReLU and its variants are best used in networks where the vanishing gradient problem is a concern, but where the non-zero mean of ELU is not desired.\n",
    "\n",
    "ReLU: ReLU is best used in networks where the vanishing gradient problem is not a concern and where a non-zero mean is not desired.\n",
    "\n",
    "Tanh: Tanh is best used in networks where a symmetric activation is desired and where the vanishing gradient problem is not a concern.\n",
    "\n",
    "Logistic: Logistic is best used in networks where a sigmoid activation is desired and where the vanishing gradient problem is not a concern.\n",
    "\n",
    "Softmax: Softmax is best used in networks where a probability distribution across multiple classes is desired."
   ]
  },
  {
   "cell_type": "code",
   "execution_count": null,
   "id": "d92f0432",
   "metadata": {},
   "outputs": [],
   "source": []
  },
  {
   "cell_type": "code",
   "execution_count": null,
   "id": "3a227bcb",
   "metadata": {},
   "outputs": [],
   "source": []
  },
  {
   "cell_type": "raw",
   "id": "a4c91f11",
   "metadata": {},
   "source": [
    "5. What may happen if you set the momentum hyperparameter too close to 1 (e.g., 0.99999)\n",
    "when using a MomentumOptimizer?"
   ]
  },
  {
   "cell_type": "raw",
   "id": "baa1834c",
   "metadata": {},
   "source": [
    "ans:\n",
    "If the momentum hyperparameter is set too close to 1 (e.g., 0.99999), the model may not be able to make any updates to the weights during the training process as the gradients will be too small. This can lead to poor model performance and longer training times."
   ]
  },
  {
   "cell_type": "code",
   "execution_count": null,
   "id": "ba0264a1",
   "metadata": {},
   "outputs": [],
   "source": []
  },
  {
   "cell_type": "code",
   "execution_count": null,
   "id": "da1e59cf",
   "metadata": {},
   "outputs": [],
   "source": []
  },
  {
   "cell_type": "raw",
   "id": "fdb2e965",
   "metadata": {},
   "source": [
    "6. Name three ways you can produce a sparse model."
   ]
  },
  {
   "cell_type": "raw",
   "id": "53777960",
   "metadata": {},
   "source": [
    "ans:\n",
    "1.Use a weight regularization technique such as L1 regularization, which encourages the model to set the weights for less important features to zero.\n",
    "\n",
    "2.Use a pruning technique such as magnitude pruning, which removes weights with small magnitudes from the model.\n",
    "\n",
    "3.Use a model architecture that produces sparse models such as a convolutional neural network, which has fewer parameters due to the shared weights across different convolutional layers."
   ]
  },
  {
   "cell_type": "code",
   "execution_count": null,
   "id": "f4a4a9c5",
   "metadata": {},
   "outputs": [],
   "source": []
  },
  {
   "cell_type": "code",
   "execution_count": null,
   "id": "d44245d9",
   "metadata": {},
   "outputs": [],
   "source": []
  },
  {
   "cell_type": "raw",
   "id": "375e0a45",
   "metadata": {},
   "source": [
    "7. Does dropout slow down training? Does it slow down inference (i.e., making predictions on\n",
    "new instances)?"
   ]
  },
  {
   "cell_type": "raw",
   "id": "940fe087",
   "metadata": {},
   "source": [
    "ans:\n",
    "Yes, dropout can slow down training. This is due to the fact that the model has to recompute the forward and backward passes for each iteration, which takes more time than if dropout was not used.\n",
    "\n",
    "No, dropout does not slow down inference. This is because dropout is only used during the training process and is not used during inference."
   ]
  },
  {
   "cell_type": "code",
   "execution_count": null,
   "id": "0ca23da8",
   "metadata": {},
   "outputs": [],
   "source": []
  },
  {
   "cell_type": "code",
   "execution_count": null,
   "id": "c75aa5c1",
   "metadata": {},
   "outputs": [],
   "source": []
  }
 ],
 "metadata": {
  "kernelspec": {
   "display_name": "Python 3",
   "language": "python",
   "name": "python3"
  },
  "language_info": {
   "codemirror_mode": {
    "name": "ipython",
    "version": 3
   },
   "file_extension": ".py",
   "mimetype": "text/x-python",
   "name": "python",
   "nbconvert_exporter": "python",
   "pygments_lexer": "ipython3",
   "version": "3.8.8"
  }
 },
 "nbformat": 4,
 "nbformat_minor": 5
}
